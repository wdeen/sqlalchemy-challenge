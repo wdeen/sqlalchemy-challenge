{
 "cells": [
  {
   "cell_type": "markdown",
   "id": "a1e79fc8",
   "metadata": {},
   "source": [
    "# Analyse and Explore the Climate Data (SQL Alchemy)\n",
    "---\n",
    "## Step #0 - Import Dependencies and Setup"
   ]
  },
  {
   "cell_type": "code",
   "execution_count": 1,
   "id": "f63d0b11",
   "metadata": {},
   "outputs": [],
   "source": [
    "# Specify Matplotlib to display matplotlib plots in the output cell\n",
    "# From Matplotlib, use the 'fivethirtyeight' visual style of plotting\n",
    "# Pyplot function from Matplotlib to draw plots\n",
    "# Pandas Library for storing data into DataFrame objects (used in tandem with Matplotlib)\n",
    "# DateTime Library for formatting and calculating date\n",
    "\n",
    "%matplotlib inline\n",
    "from matplotlib import style\n",
    "style.use('fivethirtyeight')\n",
    "import matplotlib.pyplot as plt\n",
    "import pandas as pd\n",
    "import datetime as dt"
   ]
  },
  {
   "cell_type": "markdown",
   "id": "4df3f29d",
   "metadata": {},
   "source": [
    "## Step #1 - Jupyter Notebook Database Connection (Using `SQLAlchemy` Library)\n",
    "---\n",
    "### Import `SQLAlchemy` & Relevant Classes"
   ]
  },
  {
   "cell_type": "code",
   "execution_count": 2,
   "id": "b6c015e4",
   "metadata": {},
   "outputs": [],
   "source": [
    "# Python SQL toolkit and Object Relational Mapper (sqlalchemy)\n",
    "# Used to auto reflect database and generate ORM classes (automap_base)\n",
    "# Used to establish SQLAlchemy Session to query from DB (Session)\n",
    "# Relevant functions explained further into the code... (create_engine / func / inspect / and_ / desc)\n",
    "\n",
    "import sqlalchemy                                                  \n",
    "from sqlalchemy.ext.automap import automap_base                    \n",
    "from sqlalchemy.orm import Session                                 \n",
    "from sqlalchemy import create_engine, func, inspect, and_, desc     "
   ]
  },
  {
   "cell_type": "markdown",
   "id": "70943153",
   "metadata": {},
   "source": [
    "### Define Connection to SQLite Database"
   ]
  },
  {
   "cell_type": "code",
   "execution_count": 3,
   "id": "ea59f8e9",
   "metadata": {},
   "outputs": [],
   "source": [
    "# Define connection to hawaii.sqlite file\n",
    "engine = create_engine(\"sqlite:///Resources/hawaii.sqlite\")"
   ]
  },
  {
   "cell_type": "markdown",
   "id": "8e685087",
   "metadata": {},
   "source": [
    "### Reflect Tables from SQLite Database into ORM Classes"
   ]
  },
  {
   "cell_type": "code",
   "execution_count": 4,
   "id": "d746f846",
   "metadata": {},
   "outputs": [
    {
     "data": {
      "text/plain": [
       "['measurement', 'station']"
      ]
     },
     "execution_count": 4,
     "metadata": {},
     "output_type": "execute_result"
    }
   ],
   "source": [
    "# Reflect Database and generate ORM classes based on the SQLite tables\n",
    "# Show all tables (ORM Classes) from the database\n",
    "Base = automap_base()\n",
    "Base.prepare(autoload_with = engine)\n",
    "Base.classes.keys()"
   ]
  },
  {
   "cell_type": "markdown",
   "id": "c8b32521",
   "metadata": {},
   "source": [
    "### Save References for ORM Classes"
   ]
  },
  {
   "cell_type": "code",
   "execution_count": 5,
   "id": "21002058",
   "metadata": {},
   "outputs": [],
   "source": [
    "# Reference to the 'measurement' ORM Class of the SQLite Database\n",
    "measurement = Base.classes.measurement\n",
    "\n",
    "# Reference to the 'station' ORM Class of the SQLite Database\n",
    "station = Base.classes.station"
   ]
  },
  {
   "cell_type": "markdown",
   "id": "a78c8ba7",
   "metadata": {},
   "source": [
    "## Step 2 - Precipitation Analysis\n",
    "---\n",
    "### Establish `SQLAlchemy` Session (Link Python to SQLite Database)"
   ]
  },
  {
   "cell_type": "code",
   "execution_count": 6,
   "id": "42bedb56",
   "metadata": {},
   "outputs": [],
   "source": [
    "# Create a database session object to establish a new session with the SQLite Database\n",
    "session = Session(engine)"
   ]
  },
  {
   "cell_type": "markdown",
   "id": "7564e064",
   "metadata": {},
   "source": [
    "### Inspect `measurement` SQLite Table"
   ]
  },
  {
   "cell_type": "code",
   "execution_count": 7,
   "id": "03f3cd39",
   "metadata": {},
   "outputs": [
    {
     "name": "stdout",
     "output_type": "stream",
     "text": [
      "id INTEGER\n",
      "station TEXT\n",
      "date TEXT\n",
      "prcp FLOAT\n",
      "tobs FLOAT\n"
     ]
    }
   ],
   "source": [
    " # Using the inspector function to print the column names within the 'measurement' table and its types\n",
    "inspector = inspect(engine)    \n",
    "measurement_columns = inspector.get_columns('measurement')\n",
    "\n",
    "# For every column in the list of 'measurement' table columns, print the column name and type\n",
    "for column in measurement_columns:\n",
    "    print(column[\"name\"], column[\"type\"])"
   ]
  },
  {
   "cell_type": "code",
   "execution_count": 8,
   "id": "af79d7f4",
   "metadata": {},
   "outputs": [
    {
     "data": {
      "text/plain": [
       "[('2010-01-01',),\n",
       " ('2010-01-02',),\n",
       " ('2010-01-03',),\n",
       " ('2010-01-04',),\n",
       " ('2010-01-06',),\n",
       " ('2010-01-07',),\n",
       " ('2010-01-08',),\n",
       " ('2010-01-09',),\n",
       " ('2010-01-10',),\n",
       " ('2010-01-11',)]"
      ]
     },
     "execution_count": 8,
     "metadata": {},
     "output_type": "execute_result"
    }
   ],
   "source": [
    " # Query the first 10 date datapoints to preview how the data is formatted (YYYY-MM-DD)\n",
    "first_10 = session.query(measurement.date).limit(10).all()\n",
    "\n",
    "first_10"
   ]
  },
  {
   "cell_type": "markdown",
   "id": "807bc73d",
   "metadata": {},
   "source": [
    "### `SQLAlchemy` Query #1 - Get Most Recent Date from `measurement` SQLite Table"
   ]
  },
  {
   "cell_type": "code",
   "execution_count": 9,
   "id": "e8773972",
   "metadata": {},
   "outputs": [
    {
     "name": "stdout",
     "output_type": "stream",
     "text": [
      "Recent Date: 2017-08-23 00:00:00\n",
      "<class 'datetime.datetime'>\n"
     ]
    }
   ],
   "source": [
    "# Using 'func', query the maximum date from 'measurement' and return the first result (using scalar())\n",
    "recent_date = session.query(func.max(measurement.date)).scalar()\n",
    "\n",
    "# Convert the date string to datetime object; used to get the date 12 months prior from recent date\n",
    "recent_date = dt.datetime.strptime(recent_date, '%Y-%m-%d')\n",
    "\n",
    "# Print the 'Recent Date' value and its object type\n",
    "print(\"Recent Date:\", recent_date)\n",
    "print(type(recent_date))"
   ]
  },
  {
   "cell_type": "markdown",
   "id": "6b2180d5",
   "metadata": {},
   "source": [
    "### `SQLAlchemy` Query #2 - Get Previous 12 Months of Precipitation Data from `measurement` SQLite Table"
   ]
  },
  {
   "cell_type": "code",
   "execution_count": 10,
   "id": "61e95443",
   "metadata": {},
   "outputs": [
    {
     "name": "stdout",
     "output_type": "stream",
     "text": [
      "Start Date: 2016-08-23 00:00:00\n",
      "<class 'datetime.datetime'>\n"
     ]
    }
   ],
   "source": [
    "# Using 'timedelta' from the DateTime Library, calculate the difference between the recent date and 365 days\n",
    "start_date = recent_date - dt.timedelta(days = 365)\n",
    "\n",
    "# Print the 'Start Date' value and its object type\n",
    "print(\"Start Date:\", start_date)\n",
    "print(type(start_date))"
   ]
  },
  {
   "cell_type": "code",
   "execution_count": 11,
   "id": "69fd358f",
   "metadata": {},
   "outputs": [],
   "source": [
    "# Pre-define the columns from 'measurement' used for the upcoming query... \n",
    "date_prcp_columns = [func.date(measurement.date), measurement.prcp]\n",
    "\n",
    "# Convert the Start & Recent dates back into string in YYYY-MM-DD format\n",
    "start_date = dt.datetime.strftime(start_date, '%Y-%m-%d')\n",
    "recent_date = dt.datetime.strftime(recent_date, '%Y-%m-%d')\n",
    "\n",
    "# Query all date and prcp elements from 'measurement' where...\n",
    "# The date is greater than or equal to 2016-08-23 AND the date is less than or equal to 2017-08-23 \n",
    "# '_and' function used to combine multiple conditionals within a single filter in the same query\n",
    "# *date_prcp_columns is to unpack the columns from the list in sequence using the '*' operator\n",
    "prcp_12_months = session.query(*date_prcp_columns).filter(\n",
    "    and_(\n",
    "        func.date(measurement.date) >= start_date,\n",
    "        func.date(measurement.date) <= recent_date\n",
    "    )\n",
    ").all()"
   ]
  },
  {
   "cell_type": "markdown",
   "id": "cea88dfb",
   "metadata": {},
   "source": [
    "### Load `SQLAlchemy` Query #2 Results into Pandas DataFrame as `prcp_df` (Sorted by Date)"
   ]
  },
  {
   "cell_type": "code",
   "execution_count": 12,
   "id": "244bb9c4",
   "metadata": {},
   "outputs": [
    {
     "data": {
      "text/html": [
       "<div>\n",
       "<style scoped>\n",
       "    .dataframe tbody tr th:only-of-type {\n",
       "        vertical-align: middle;\n",
       "    }\n",
       "\n",
       "    .dataframe tbody tr th {\n",
       "        vertical-align: top;\n",
       "    }\n",
       "\n",
       "    .dataframe thead th {\n",
       "        text-align: right;\n",
       "    }\n",
       "</style>\n",
       "<table border=\"1\" class=\"dataframe\">\n",
       "  <thead>\n",
       "    <tr style=\"text-align: right;\">\n",
       "      <th></th>\n",
       "      <th>date</th>\n",
       "      <th>prcp</th>\n",
       "    </tr>\n",
       "  </thead>\n",
       "  <tbody>\n",
       "    <tr>\n",
       "      <th>0</th>\n",
       "      <td>2016-08-23</td>\n",
       "      <td>0.0</td>\n",
       "    </tr>\n",
       "    <tr>\n",
       "      <th>1</th>\n",
       "      <td>2016-08-23</td>\n",
       "      <td>0.5</td>\n",
       "    </tr>\n",
       "    <tr>\n",
       "      <th>2</th>\n",
       "      <td>2016-08-23</td>\n",
       "      <td>1.3</td>\n",
       "    </tr>\n",
       "    <tr>\n",
       "      <th>3</th>\n",
       "      <td>2016-08-23</td>\n",
       "      <td>17.8</td>\n",
       "    </tr>\n",
       "    <tr>\n",
       "      <th>4</th>\n",
       "      <td>2016-08-23</td>\n",
       "      <td>3.8</td>\n",
       "    </tr>\n",
       "    <tr>\n",
       "      <th>...</th>\n",
       "      <td>...</td>\n",
       "      <td>...</td>\n",
       "    </tr>\n",
       "    <tr>\n",
       "      <th>2016</th>\n",
       "      <td>2017-08-22</td>\n",
       "      <td>12.7</td>\n",
       "    </tr>\n",
       "    <tr>\n",
       "      <th>2017</th>\n",
       "      <td>2017-08-23</td>\n",
       "      <td>0.0</td>\n",
       "    </tr>\n",
       "    <tr>\n",
       "      <th>2018</th>\n",
       "      <td>2017-08-23</td>\n",
       "      <td>2.0</td>\n",
       "    </tr>\n",
       "    <tr>\n",
       "      <th>2019</th>\n",
       "      <td>2017-08-23</td>\n",
       "      <td>0.0</td>\n",
       "    </tr>\n",
       "    <tr>\n",
       "      <th>2020</th>\n",
       "      <td>2017-08-23</td>\n",
       "      <td>11.4</td>\n",
       "    </tr>\n",
       "  </tbody>\n",
       "</table>\n",
       "<p>2021 rows × 2 columns</p>\n",
       "</div>"
      ],
      "text/plain": [
       "           date  prcp\n",
       "0    2016-08-23   0.0\n",
       "1    2016-08-23   0.5\n",
       "2    2016-08-23   1.3\n",
       "3    2016-08-23  17.8\n",
       "4    2016-08-23   3.8\n",
       "...         ...   ...\n",
       "2016 2017-08-22  12.7\n",
       "2017 2017-08-23   0.0\n",
       "2018 2017-08-23   2.0\n",
       "2019 2017-08-23   0.0\n",
       "2020 2017-08-23  11.4\n",
       "\n",
       "[2021 rows x 2 columns]"
      ]
     },
     "execution_count": 12,
     "metadata": {},
     "output_type": "execute_result"
    }
   ],
   "source": [
    "# Pre-define the column names for the upcoming Pandas DataFrame\n",
    "prcp_column_names = [\"date\", \"prcp\"]\n",
    "\n",
    "# From the query of precipitation data from the previous 12 months...\n",
    "# Store them in a new DataFrame\n",
    "prcp_df = pd.DataFrame(prcp_12_months, columns = prcp_column_names)\n",
    "\n",
    "# Drop rows with NaN values in the DataFrame\n",
    "prcp_df = prcp_df.dropna()\n",
    "\n",
    "# Using Pandas' 'to_datetime' function, convert all date elements as datetime in the format YYYY-MM-DD\n",
    "prcp_df[\"date\"] = pd.to_datetime(prcp_df[\"date\"], format = \"%Y-%m-%d\")\n",
    "\n",
    "# Sort the DataFrame by 'date' and reset the index\n",
    "prcp_df = prcp_df.sort_values(by = \"date\").reset_index(drop = True)\n",
    "\n",
    "# Show the Precipitation DataFrame\n",
    "prcp_df"
   ]
  },
  {
   "cell_type": "markdown",
   "id": "59a568fe",
   "metadata": {},
   "source": [
    "### Plot `prcp_df` DataFrame as Plot (Using Matplotlib)"
   ]
  },
  {
   "cell_type": "code",
   "execution_count": 13,
   "id": "01fdd177",
   "metadata": {},
   "outputs": [
    {
     "data": {
      "image/png": "[encoded data removed]",
      "text/plain": [
       "<Figure size 640x480 with 1 Axes>"
      ]
     },
     "metadata": {},
     "output_type": "display_data"
    }
   ],
   "source": [
    "# Get the min and max dates from the Precipitation DataFrame\n",
    "prcp_min_date = prcp_df[\"date\"].dt.date.min()\n",
    "prcp_max_date = prcp_df[\"date\"].dt.date.max()\n",
    "\n",
    "\n",
    "# Using the Matplotlib library (plt), generate a plot where...\n",
    "# The 'x' axis is the 'Date' Type; the 'y' axis is the 'Percipiatation (mm)';\n",
    "# Colour of the bars are Turquoise; bar outlines are coloured white and set w/ a line thickness of 2\n",
    "plt_plot = plt.plot(prcp_df[\"date\"],\n",
    "                      prcp_df[\"prcp\"],\n",
    "                      color = \"turquoise\")\n",
    "\n",
    "# In the plot, set a new title where Font Size is 16\n",
    "plt.title(f\"Precipitation Analysis ({prcp_min_date} - {prcp_max_date})\", fontsize = 16)\n",
    "\n",
    "# In the plot, set a new label for the 'x' axis where Font Size is 14\n",
    "plt.xlabel(\"Date\", fontsize = 14)\n",
    "\n",
    "# In the plot, set a new label for the 'y' axis where Font Size is 14\n",
    "plt.ylabel(\"Precipitation (mm)\", fontsize = 14)\n",
    "\n",
    "# In the plot, rotate the 'x' ticks 45 degrees clockwise and adjust Font size to 12\n",
    "plt.xticks(rotation = 45, fontsize = 12)\n",
    "\n",
    "# In the plot, update the 'y' axis range as: 0 to 175\n",
    "plt.ylim(0, 175)\n",
    "\n",
    "# In the plot, adjust 'y' tick Font size to 12\n",
    "plt.yticks(range(0, 176, 25), fontsize = 12)\n",
    "\n",
    "# Set the background color of the plot (within the axes) to Black\n",
    "plt.gca().set_facecolor(\"black\")\n",
    "\n",
    "# Add grid lines (faint) to the plot\n",
    "plt.grid(alpha = 0.2)\n",
    "\n",
    "# In the plot, add a 'Legend';\n",
    "    # Position it on the upper right of the figure plot\n",
    "    # adjust font size in the Legend to 12\n",
    "plt.legend([\"Precipitation\"], loc = \"upper right\", fontsize = 12)\n",
    "\n",
    "# Display the Plot (Using Matplotlib)\n",
    "plt.show()"
   ]
  },
  {
   "cell_type": "markdown",
   "id": "5ba04938",
   "metadata": {},
   "source": [
    "### Print Summary Stats for 'Precipitation' from `prcp_df` (Using Pandas)"
   ]
  },
  {
   "cell_type": "code",
   "execution_count": 14,
   "id": "8b0c2661",
   "metadata": {},
   "outputs": [
    {
     "data": {
      "text/html": [
       "<div>\n",
       "<style scoped>\n",
       "    .dataframe tbody tr th:only-of-type {\n",
       "        vertical-align: middle;\n",
       "    }\n",
       "\n",
       "    .dataframe tbody tr th {\n",
       "        vertical-align: top;\n",
       "    }\n",
       "\n",
       "    .dataframe thead th {\n",
       "        text-align: right;\n",
       "    }\n",
       "</style>\n",
       "<table border=\"1\" class=\"dataframe\">\n",
       "  <thead>\n",
       "    <tr style=\"text-align: right;\">\n",
       "      <th></th>\n",
       "      <th>prcp</th>\n",
       "    </tr>\n",
       "  </thead>\n",
       "  <tbody>\n",
       "    <tr>\n",
       "      <th>count</th>\n",
       "      <td>2021.000000</td>\n",
       "    </tr>\n",
       "    <tr>\n",
       "      <th>mean</th>\n",
       "      <td>4.505888</td>\n",
       "    </tr>\n",
       "    <tr>\n",
       "      <th>std</th>\n",
       "      <td>11.713487</td>\n",
       "    </tr>\n",
       "    <tr>\n",
       "      <th>min</th>\n",
       "      <td>0.000000</td>\n",
       "    </tr>\n",
       "    <tr>\n",
       "      <th>25%</th>\n",
       "      <td>0.000000</td>\n",
       "    </tr>\n",
       "    <tr>\n",
       "      <th>50%</th>\n",
       "      <td>0.500000</td>\n",
       "    </tr>\n",
       "    <tr>\n",
       "      <th>75%</th>\n",
       "      <td>3.300000</td>\n",
       "    </tr>\n",
       "    <tr>\n",
       "      <th>max</th>\n",
       "      <td>170.200000</td>\n",
       "    </tr>\n",
       "  </tbody>\n",
       "</table>\n",
       "</div>"
      ],
      "text/plain": [
       "              prcp\n",
       "count  2021.000000\n",
       "mean      4.505888\n",
       "std      11.713487\n",
       "min       0.000000\n",
       "25%       0.000000\n",
       "50%       0.500000\n",
       "75%       3.300000\n",
       "max     170.200000"
      ]
     },
     "execution_count": 14,
     "metadata": {},
     "output_type": "execute_result"
    }
   ],
   "source": [
    "# Use the describe() method to get summary statistics for Precipitation and store in a new DataFrame\n",
    "prcp_summary_stats = pd.DataFrame(prcp_df[\"prcp\"].describe())\n",
    "\n",
    "# Show the Summary Stats for Precipitations\n",
    "prcp_summary_stats"
   ]
  },
  {
   "cell_type": "markdown",
   "id": "9b76120e",
   "metadata": {},
   "source": [
    "## Step #3 - Station Analysis\n",
    "---\n",
    "### Inspect `station` SQLite Table"
   ]
  },
  {
   "cell_type": "code",
   "execution_count": 15,
   "id": "18ed7e96",
   "metadata": {},
   "outputs": [
    {
     "name": "stdout",
     "output_type": "stream",
     "text": [
      "id INTEGER\n",
      "station TEXT\n",
      "name TEXT\n",
      "latitude FLOAT\n",
      "longitude FLOAT\n",
      "elevation FLOAT\n"
     ]
    }
   ],
   "source": [
    "# Using the inspector function to print the column names within the 'station' table and its types\n",
    "station_columns = inspector.get_columns('station')\n",
    "\n",
    "# For every column in the list of 'station' table columns, print the column name and type\n",
    "for column in station_columns:\n",
    "    print(column[\"name\"], column[\"type\"])"
   ]
  },
  {
   "cell_type": "markdown",
   "id": "a373d355",
   "metadata": {},
   "source": [
    "### `SQLAlchemy` Query #3 - Calculate the Total Number of Stations from `station` SQLite Table"
   ]
  },
  {
   "cell_type": "code",
   "execution_count": 16,
   "id": "d293718e",
   "metadata": {},
   "outputs": [
    {
     "name": "stdout",
     "output_type": "stream",
     "text": [
      "Total No. Stations: 9\n"
     ]
    }
   ],
   "source": [
    "# Query the count of all rows in the 'station' table (Total Number of Stations)\n",
    "total_stations = session.query(station).count()\n",
    "\n",
    "# Print the value\n",
    "print(\"Total No. Stations:\", total_stations)"
   ]
  },
  {
   "cell_type": "markdown",
   "id": "34c0d3e7",
   "metadata": {},
   "source": [
    "### `SQLAlchemy` Query #4 - Find the 'Most-Active Stations' using `station` & `measurement` SQLite Tables"
   ]
  },
  {
   "cell_type": "code",
   "execution_count": 17,
   "id": "b5cf58fc",
   "metadata": {},
   "outputs": [
    {
     "data": {
      "text/plain": [
       "[('USC00519281', 2772),\n",
       " ('USC00519397', 2724),\n",
       " ('USC00513117', 2709),\n",
       " ('USC00519523', 2669),\n",
       " ('USC00516128', 2612),\n",
       " ('USC00514830', 2202),\n",
       " ('USC00511918', 1979),\n",
       " ('USC00517948', 1372),\n",
       " ('USC00518838', 511)]"
      ]
     },
     "execution_count": 17,
     "metadata": {},
     "output_type": "execute_result"
    }
   ],
   "source": [
    "# Query all stations from 'station' and...\n",
    "# the result count of observations a station has been listed where...\n",
    "# the 'station' column from both the 'measurement' & 'station' tables match i.e. common link between 2 tables\n",
    "# In addition, group the queried data by 'station' from the 'station' table and...\n",
    "# Sort the queried data in descending order of the result count of observations (using the 'desc' function)\n",
    "active_stations = session.query(station.station, func.count().label('observation_count')).join(\n",
    "    measurement,\n",
    "    station.station == measurement.station\n",
    ").group_by(measurement.station).order_by(desc('observation_count')).all()\n",
    "\n",
    "\n",
    "# Show the queried data\n",
    "active_stations"
   ]
  },
  {
   "cell_type": "markdown",
   "id": "f9d63f0d",
   "metadata": {},
   "source": [
    "### `SQLAlchemy` Query #5 - Min/Max/Avg Temperature for the 'Most-Active Station' using `measurement` SQLite Table"
   ]
  },
  {
   "cell_type": "code",
   "execution_count": 18,
   "id": "9fbb74d2",
   "metadata": {},
   "outputs": [
    {
     "name": "stdout",
     "output_type": "stream",
     "text": [
      "Most Active Station: USC00519281\n"
     ]
    }
   ],
   "source": [
    "# Get the 'Most Active' Station from the previous queried data (first listed since it is already sorted in desc)\n",
    "most_active_station = active_stations[0].station\n",
    "\n",
    "print(f\"Most Active Station: {most_active_station}\")"
   ]
  },
  {
   "cell_type": "code",
   "execution_count": 19,
   "id": "72e79ce1",
   "metadata": {},
   "outputs": [
    {
     "data": {
      "text/plain": [
       "[(12.2, 29.4, 22.03582251082252)]"
      ]
     },
     "execution_count": 19,
     "metadata": {},
     "output_type": "execute_result"
    }
   ],
   "source": [
    "# Query the min, max and mean of the temperature (tobs) from 'measurement' where...\n",
    "# station is the most active station\n",
    "temperature_stats = session.query(func.min(measurement.tobs), func.max(measurement.tobs), func.avg(measurement.tobs)).\\\n",
    "    filter(measurement.station == most_active_station).all()\n",
    "\n",
    "temperature_stats"
   ]
  },
  {
   "cell_type": "markdown",
   "id": "f7f5acfd",
   "metadata": {},
   "source": [
    "### `SQLAlchemy` Query #6 - Get Previous 12 Months of Temperature Data for the 'Most-Active Station'"
   ]
  },
  {
   "cell_type": "code",
   "execution_count": 20,
   "id": "23d9ef58",
   "metadata": {},
   "outputs": [],
   "source": [
    "# Pre-define the columns to use for the upcoming query\n",
    "date_tobs_columns = [func.date(measurement.date), measurement.tobs]\n",
    "\n",
    "# Query all dates and tobs values from 'measurement' where...\n",
    "# station is the most active station and where...\n",
    "# The date is greater than or equal to 2016-08-23 AND the date is less than or equal to 2017-08-23 \n",
    "# '_and' function used to combine multiple conditionals within a single filter in the same query\n",
    "# *date_tobs_columns is to unpack the columns from the list in sequence using the '*' operator\n",
    "tobs_12_months = session.query(*date_tobs_columns).filter(measurement.station == most_active_station).filter(\n",
    "    and_(\n",
    "        func.date(measurement.date) >= start_date,\n",
    "        func.date(measurement.date) <= recent_date\n",
    "    )\n",
    ").all()"
   ]
  },
  {
   "cell_type": "markdown",
   "id": "ab1975f8",
   "metadata": {},
   "source": [
    "### Load `SQLAlchemy` Query #6 Results into Pandas DataFrame as `tobs_df`"
   ]
  },
  {
   "cell_type": "code",
   "execution_count": 21,
   "id": "2530a796",
   "metadata": {},
   "outputs": [
    {
     "data": {
      "text/html": [
       "<div>\n",
       "<style scoped>\n",
       "    .dataframe tbody tr th:only-of-type {\n",
       "        vertical-align: middle;\n",
       "    }\n",
       "\n",
       "    .dataframe tbody tr th {\n",
       "        vertical-align: top;\n",
       "    }\n",
       "\n",
       "    .dataframe thead th {\n",
       "        text-align: right;\n",
       "    }\n",
       "</style>\n",
       "<table border=\"1\" class=\"dataframe\">\n",
       "  <thead>\n",
       "    <tr style=\"text-align: right;\">\n",
       "      <th></th>\n",
       "      <th>date</th>\n",
       "      <th>tobs</th>\n",
       "    </tr>\n",
       "  </thead>\n",
       "  <tbody>\n",
       "    <tr>\n",
       "      <th>0</th>\n",
       "      <td>2016-08-23</td>\n",
       "      <td>25.0</td>\n",
       "    </tr>\n",
       "    <tr>\n",
       "      <th>1</th>\n",
       "      <td>2016-08-24</td>\n",
       "      <td>25.0</td>\n",
       "    </tr>\n",
       "    <tr>\n",
       "      <th>2</th>\n",
       "      <td>2016-08-25</td>\n",
       "      <td>26.7</td>\n",
       "    </tr>\n",
       "    <tr>\n",
       "      <th>3</th>\n",
       "      <td>2016-08-26</td>\n",
       "      <td>26.7</td>\n",
       "    </tr>\n",
       "    <tr>\n",
       "      <th>4</th>\n",
       "      <td>2016-08-27</td>\n",
       "      <td>23.9</td>\n",
       "    </tr>\n",
       "    <tr>\n",
       "      <th>...</th>\n",
       "      <td>...</td>\n",
       "      <td>...</td>\n",
       "    </tr>\n",
       "    <tr>\n",
       "      <th>347</th>\n",
       "      <td>2017-08-14</td>\n",
       "      <td>25.0</td>\n",
       "    </tr>\n",
       "    <tr>\n",
       "      <th>348</th>\n",
       "      <td>2017-08-15</td>\n",
       "      <td>25.0</td>\n",
       "    </tr>\n",
       "    <tr>\n",
       "      <th>349</th>\n",
       "      <td>2017-08-16</td>\n",
       "      <td>24.4</td>\n",
       "    </tr>\n",
       "    <tr>\n",
       "      <th>350</th>\n",
       "      <td>2017-08-17</td>\n",
       "      <td>24.4</td>\n",
       "    </tr>\n",
       "    <tr>\n",
       "      <th>351</th>\n",
       "      <td>2017-08-18</td>\n",
       "      <td>26.1</td>\n",
       "    </tr>\n",
       "  </tbody>\n",
       "</table>\n",
       "<p>352 rows × 2 columns</p>\n",
       "</div>"
      ],
      "text/plain": [
       "           date  tobs\n",
       "0    2016-08-23  25.0\n",
       "1    2016-08-24  25.0\n",
       "2    2016-08-25  26.7\n",
       "3    2016-08-26  26.7\n",
       "4    2016-08-27  23.9\n",
       "..          ...   ...\n",
       "347  2017-08-14  25.0\n",
       "348  2017-08-15  25.0\n",
       "349  2017-08-16  24.4\n",
       "350  2017-08-17  24.4\n",
       "351  2017-08-18  26.1\n",
       "\n",
       "[352 rows x 2 columns]"
      ]
     },
     "execution_count": 21,
     "metadata": {},
     "output_type": "execute_result"
    }
   ],
   "source": [
    "# Pre-define the column names for the upcoming Pandas DataFrame\n",
    "tobs_column_names = [\"date\", \"tobs\"]\n",
    "\n",
    "# Store the 12 months worth of queried temperature data into a new DataFrame\n",
    "tobs_df = pd.DataFrame(tobs_12_months, columns = tobs_column_names)\n",
    "\n",
    "# Drop any row from the DataFrame with NaN values\n",
    "tobs_df = tobs_df.dropna()\n",
    "\n",
    "# Display the Temperature DataFrame\n",
    "tobs_df"
   ]
  },
  {
   "cell_type": "markdown",
   "id": "f2945199",
   "metadata": {},
   "source": [
    "### Plot `tobs_df` DataFrame as Histogram w/ 12 Bins (Using Matplotlib)"
   ]
  },
  {
   "cell_type": "code",
   "execution_count": 22,
   "id": "724d9b7c",
   "metadata": {},
   "outputs": [
    {
     "data": {
      "image/png": "[encoded data removed]",
      "text/plain": [
       "<Figure size 640x480 with 1 Axes>"
      ]
     },
     "metadata": {},
     "output_type": "display_data"
    }
   ],
   "source": [
    "# Get the min and max dates from the Precipitation DataFrame\n",
    "tobs_min_date = tobs_df[\"date\"].min()\n",
    "tobs_max_date = tobs_df[\"date\"].max()\n",
    "\n",
    "\n",
    "# Create a histogram with 12 bins using the Temperature data only from the DataFrame\n",
    "# This makes the x axis as the temperature, the y axis as the frequency\n",
    "plt.hist(tobs_df[\"tobs\"], bins = 12, edgecolor = 'black')\n",
    "\n",
    "# Set x/y labels and title\n",
    "plt.xlabel('Temperature (C)')\n",
    "plt.ylabel('Frequency')\n",
    "plt.title(f\"Temperature Analysis ({tobs_min_date} - {tobs_max_date})\", fontsize = 16)\n",
    "\n",
    "# In the plot, add a 'Legend';\n",
    "# Position it on the upper left of the histogram plot\n",
    "# adjust font size in the Legend to 12\n",
    "plt.legend([\"Temperature (C)\"], loc = \"upper left\", fontsize = 12)\n",
    "\n",
    "# Show the His\n",
    "plt.show()"
   ]
  },
  {
   "cell_type": "markdown",
   "id": "bc50a000",
   "metadata": {},
   "source": [
    "### [Bonus] Print Summary Stats for 'Temperature' from `tobs_df` (Using Pandas)"
   ]
  },
  {
   "cell_type": "code",
   "execution_count": 23,
   "id": "d13bf6ec",
   "metadata": {},
   "outputs": [
    {
     "data": {
      "text/html": [
       "<div>\n",
       "<style scoped>\n",
       "    .dataframe tbody tr th:only-of-type {\n",
       "        vertical-align: middle;\n",
       "    }\n",
       "\n",
       "    .dataframe tbody tr th {\n",
       "        vertical-align: top;\n",
       "    }\n",
       "\n",
       "    .dataframe thead th {\n",
       "        text-align: right;\n",
       "    }\n",
       "</style>\n",
       "<table border=\"1\" class=\"dataframe\">\n",
       "  <thead>\n",
       "    <tr style=\"text-align: right;\">\n",
       "      <th></th>\n",
       "      <th>tobs</th>\n",
       "    </tr>\n",
       "  </thead>\n",
       "  <tbody>\n",
       "    <tr>\n",
       "      <th>count</th>\n",
       "      <td>352.000000</td>\n",
       "    </tr>\n",
       "    <tr>\n",
       "      <th>mean</th>\n",
       "      <td>22.835511</td>\n",
       "    </tr>\n",
       "    <tr>\n",
       "      <th>std</th>\n",
       "      <td>2.629856</td>\n",
       "    </tr>\n",
       "    <tr>\n",
       "      <th>min</th>\n",
       "      <td>15.000000</td>\n",
       "    </tr>\n",
       "    <tr>\n",
       "      <th>25%</th>\n",
       "      <td>21.100000</td>\n",
       "    </tr>\n",
       "    <tr>\n",
       "      <th>50%</th>\n",
       "      <td>23.300000</td>\n",
       "    </tr>\n",
       "    <tr>\n",
       "      <th>75%</th>\n",
       "      <td>25.000000</td>\n",
       "    </tr>\n",
       "    <tr>\n",
       "      <th>max</th>\n",
       "      <td>28.300000</td>\n",
       "    </tr>\n",
       "  </tbody>\n",
       "</table>\n",
       "</div>"
      ],
      "text/plain": [
       "             tobs\n",
       "count  352.000000\n",
       "mean    22.835511\n",
       "std      2.629856\n",
       "min     15.000000\n",
       "25%     21.100000\n",
       "50%     23.300000\n",
       "75%     25.000000\n",
       "max     28.300000"
      ]
     },
     "execution_count": 23,
     "metadata": {},
     "output_type": "execute_result"
    }
   ],
   "source": [
    "# Use the describe() method to get summary statistics for the Temperature\n",
    "tobs_summary_stats = pd.DataFrame(tobs_df[\"tobs\"].describe())\n",
    "\n",
    "# Log the summary statistics for Temperature\n",
    "tobs_summary_stats"
   ]
  },
  {
   "cell_type": "markdown",
   "id": "c30a5d78",
   "metadata": {},
   "source": [
    "### Terminate `SQLAlchemy` Session"
   ]
  },
  {
   "cell_type": "code",
   "execution_count": 24,
   "id": "c13a03fc",
   "metadata": {},
   "outputs": [],
   "source": [
    "session.close()"
   ]
  }
 ],
 "metadata": {
  "kernelspec": {
   "display_name": "Python 3 (ipykernel)",
   "language": "python",
   "name": "python3"
  },
  "language_info": {
   "codemirror_mode": {
    "name": "ipython",
    "version": 3
   },
   "file_extension": ".py",
   "mimetype": "text/x-python",
   "name": "python",
   "nbconvert_exporter": "python",
   "pygments_lexer": "ipython3",
   "version": "3.10.13"
  }
 },
 "nbformat": 4,
 "nbformat_minor": 5
}
